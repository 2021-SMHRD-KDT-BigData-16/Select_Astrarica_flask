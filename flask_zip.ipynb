{
 "cells": [
  {
   "cell_type": "code",
   "execution_count": 8,
   "metadata": {},
   "outputs": [],
   "source": [
    "from flask import Flask, request, jsonify, Response\n",
    "from flask_cors import CORS\n",
    "import zipfile\n",
    "from zipfile import ZipFile\n",
    "import os\n",
    "import json\n",
    "import pandas as pd\n",
    "import numpy as np\n",
    "import time "
   ]
  },
  {
   "cell_type": "code",
   "execution_count": 18,
   "metadata": {},
   "outputs": [],
   "source": [
    "# 폴더안에있는 Json파일 전부\n",
    "def jsonzip(od_path):\n",
    "    with zipfile.ZipFile(od_path, 'r') as obj:\n",
    "        obj.namelist()\t\t# zip파일 내의 파일 이름을 가진 list 반환\n",
    "        obj.extractall(\"C:/datazip/\")\n",
    "\n",
    " \n",
    "def dataframe(od_path) :\n",
    "    temp = od_path\n",
    "    path = temp.split(\".\")[0]\n",
    "    filename = od_path.split(\"/\")[2].split(\".\")[0]\n",
    "    list = os.listdir(path)\n",
    "    json_file_list = [path+'/'+ file for file in list if file.endswith('.json')]\n",
    "    \n",
    "    imagePath = [] #이미지 파일명 저장 리스트\n",
    "    label=[] #분류 라벨 값 저장 리스트\n",
    "    points_1_x=[] #boundary box x,y좌표 리스트\n",
    "    points_1_y=[] #boundary box x,y좌표 리스트\n",
    "    points_2_x=[] #boundary box x,y좌표 리스트\n",
    "    points_2_y=[] #boundary box x,y좌표 리스트\n",
    "    errorFile =[] #에러 파일 검출 리스트\n",
    "    shapes_list = [] \n",
    "    imageHeight = []\n",
    "    imageWidth = []\n",
    "    ratio = []\n",
    "    wide = []\n",
    "    bwide = []\n",
    "\n",
    "    for i in json_file_list: #json_file_list의 하나의 인덱스 마다 i라는 변수로 사용한다.\n",
    "        with open(i,'r') as j: #\n",
    "            try:\n",
    "                contents=json.loads(j.read())  # open : r - 읽기모드, w-쓰기모드, a-추가모드\n",
    "                for k in range(len(contents['shapes'])): # contents라는 json객체 안에 여러 객체가 있을 경우를 대비해 반복문안에 shapes의 길이로 반복한다\n",
    "                                                        # shapes의 내용이 2개면 2번 반복하는 형태 --> 변수는 k사용\n",
    "                    print(contents['shapes'][k]) # 결과 확인 및 데이터 확인                 \n",
    "                    shapes_list.append(len(contents['shapes']))\n",
    "                    imagePath.append(str((contents['imagePath']).replace('.jpg',\"\"))) # 따로 구별하는 변수가 없어서 이미지 경로에 확장자만 제거하여 사용\n",
    "                    label.append(contents['shapes'][k]['label']) # label은 분리수거 되는 분류 클래스로 shapes->label 키 값으로 접근\n",
    "                    points_1_x.append(contents['shapes'][k]['points'][0][0])\n",
    "                    points_1_y.append(contents['shapes'][k]['points'][0][1])\n",
    "                    points_2_x.append(contents['shapes'][k]['points'][1][0])\n",
    "                    points_2_y.append(contents['shapes'][k]['points'][1][1])\n",
    "                    imageHeight.append(contents['imageHeight'])\n",
    "                    imageWidth.append(contents['imageWidth'])\n",
    "            except:\n",
    "                errorFile.append(i) # 크기가 0이거나, 파일 불러올 때 오류를 유발하는 파일명 errorFile리스트에 담는다.\n",
    "\n",
    "    # 데이터 프레임 만들기\n",
    "    # 딕셔너리 형태로 리스트를 묶어서 넣어준다.\n",
    "    points_1_x=np.round(points_1_x).astype('int')\n",
    "    points_1_y=np.round(points_1_y).astype('int')\n",
    "    points_2_x=np.round(points_2_x).astype('int')\n",
    "    points_2_y=np.round(points_2_y).astype('int')\n",
    "    for i in range(len(imagePath)) :\n",
    "        ratio.append((((points_2_x[i] - points_1_x[i])* (points_2_y[i] - points_1_y[i]))/( imageHeight[i] * imageWidth[i]))*100)\n",
    "        wide.append(imageHeight[i]*imageWidth[i])\n",
    "        bwide.append((points_2_x[i] - points_1_x[i])*(points_2_y[i] - points_1_y[i]))\n",
    "        print(\"Ratio for image\", imagePath[i], \":\", ratio)\n",
    "        print(\"Wide for image\", imagePath[i], \":\", wide[i])\n",
    "        print(\"Bide for image\", imagePath[i], \":\", bwide[i])\n",
    "\n",
    "    ratio=np.round(ratio,0)\n",
    "\n",
    "    data=pd.DataFrame({\"imagePath\":imagePath,\n",
    "                        \"label\":label,\n",
    "                        \"Shape_num\":shapes_list,\n",
    "                        \"point1_x\":points_1_x,\n",
    "                        \"point1_y\":points_1_y,\n",
    "                        \"point2_x\":points_2_x,\n",
    "                        \"point2_y\":points_2_y,\n",
    "                        \"imageHeight\":imageHeight,\n",
    "                        \"imageWidth\":imageWidth,\n",
    "                        \"ratio\" : ratio,\n",
    "                        \"wide\" : wide,\n",
    "                        \"bwide\" : bwide\n",
    "                        })\n",
    "    \n",
    "    data.to_csv(f\"{path}/{filename}.csv\",index=False)\n",
    "    return f\"{path}/{filename}.csv\""
   ]
  },
  {
   "cell_type": "code",
   "execution_count": 10,
   "metadata": {},
   "outputs": [
    {
     "ename": "FileNotFoundError",
     "evalue": "[Errno 2] No such file or directory: 'C:/datazip/testzip/testzip.csv'",
     "output_type": "error",
     "traceback": [
      "\u001b[1;31m---------------------------------------------------------------------------\u001b[0m",
      "\u001b[1;31mFileNotFoundError\u001b[0m                         Traceback (most recent call last)",
      "Cell \u001b[1;32mIn[10], line 1\u001b[0m\n\u001b[1;32m----> 1\u001b[0m data \u001b[39m=\u001b[39m pd\u001b[39m.\u001b[39;49mread_csv(\u001b[39m\"\u001b[39;49m\u001b[39mC:/datazip/testzip/testzip.csv\u001b[39;49m\u001b[39m\"\u001b[39;49m, index_col\u001b[39m=\u001b[39;49m\u001b[39mFalse\u001b[39;49;00m)\n",
      "File \u001b[1;32mc:\\Users\\smhrd\\AppData\\Local\\Programs\\Python\\Python310\\lib\\site-packages\\pandas\\io\\parsers\\readers.py:912\u001b[0m, in \u001b[0;36mread_csv\u001b[1;34m(filepath_or_buffer, sep, delimiter, header, names, index_col, usecols, dtype, engine, converters, true_values, false_values, skipinitialspace, skiprows, skipfooter, nrows, na_values, keep_default_na, na_filter, verbose, skip_blank_lines, parse_dates, infer_datetime_format, keep_date_col, date_parser, date_format, dayfirst, cache_dates, iterator, chunksize, compression, thousands, decimal, lineterminator, quotechar, quoting, doublequote, escapechar, comment, encoding, encoding_errors, dialect, on_bad_lines, delim_whitespace, low_memory, memory_map, float_precision, storage_options, dtype_backend)\u001b[0m\n\u001b[0;32m    899\u001b[0m kwds_defaults \u001b[39m=\u001b[39m _refine_defaults_read(\n\u001b[0;32m    900\u001b[0m     dialect,\n\u001b[0;32m    901\u001b[0m     delimiter,\n\u001b[1;32m   (...)\u001b[0m\n\u001b[0;32m    908\u001b[0m     dtype_backend\u001b[39m=\u001b[39mdtype_backend,\n\u001b[0;32m    909\u001b[0m )\n\u001b[0;32m    910\u001b[0m kwds\u001b[39m.\u001b[39mupdate(kwds_defaults)\n\u001b[1;32m--> 912\u001b[0m \u001b[39mreturn\u001b[39;00m _read(filepath_or_buffer, kwds)\n",
      "File \u001b[1;32mc:\\Users\\smhrd\\AppData\\Local\\Programs\\Python\\Python310\\lib\\site-packages\\pandas\\io\\parsers\\readers.py:577\u001b[0m, in \u001b[0;36m_read\u001b[1;34m(filepath_or_buffer, kwds)\u001b[0m\n\u001b[0;32m    574\u001b[0m _validate_names(kwds\u001b[39m.\u001b[39mget(\u001b[39m\"\u001b[39m\u001b[39mnames\u001b[39m\u001b[39m\"\u001b[39m, \u001b[39mNone\u001b[39;00m))\n\u001b[0;32m    576\u001b[0m \u001b[39m# Create the parser.\u001b[39;00m\n\u001b[1;32m--> 577\u001b[0m parser \u001b[39m=\u001b[39m TextFileReader(filepath_or_buffer, \u001b[39m*\u001b[39m\u001b[39m*\u001b[39mkwds)\n\u001b[0;32m    579\u001b[0m \u001b[39mif\u001b[39;00m chunksize \u001b[39mor\u001b[39;00m iterator:\n\u001b[0;32m    580\u001b[0m     \u001b[39mreturn\u001b[39;00m parser\n",
      "File \u001b[1;32mc:\\Users\\smhrd\\AppData\\Local\\Programs\\Python\\Python310\\lib\\site-packages\\pandas\\io\\parsers\\readers.py:1407\u001b[0m, in \u001b[0;36mTextFileReader.__init__\u001b[1;34m(self, f, engine, **kwds)\u001b[0m\n\u001b[0;32m   1404\u001b[0m     \u001b[39mself\u001b[39m\u001b[39m.\u001b[39moptions[\u001b[39m\"\u001b[39m\u001b[39mhas_index_names\u001b[39m\u001b[39m\"\u001b[39m] \u001b[39m=\u001b[39m kwds[\u001b[39m\"\u001b[39m\u001b[39mhas_index_names\u001b[39m\u001b[39m\"\u001b[39m]\n\u001b[0;32m   1406\u001b[0m \u001b[39mself\u001b[39m\u001b[39m.\u001b[39mhandles: IOHandles \u001b[39m|\u001b[39m \u001b[39mNone\u001b[39;00m \u001b[39m=\u001b[39m \u001b[39mNone\u001b[39;00m\n\u001b[1;32m-> 1407\u001b[0m \u001b[39mself\u001b[39m\u001b[39m.\u001b[39m_engine \u001b[39m=\u001b[39m \u001b[39mself\u001b[39;49m\u001b[39m.\u001b[39;49m_make_engine(f, \u001b[39mself\u001b[39;49m\u001b[39m.\u001b[39;49mengine)\n",
      "File \u001b[1;32mc:\\Users\\smhrd\\AppData\\Local\\Programs\\Python\\Python310\\lib\\site-packages\\pandas\\io\\parsers\\readers.py:1661\u001b[0m, in \u001b[0;36mTextFileReader._make_engine\u001b[1;34m(self, f, engine)\u001b[0m\n\u001b[0;32m   1659\u001b[0m     \u001b[39mif\u001b[39;00m \u001b[39m\"\u001b[39m\u001b[39mb\u001b[39m\u001b[39m\"\u001b[39m \u001b[39mnot\u001b[39;00m \u001b[39min\u001b[39;00m mode:\n\u001b[0;32m   1660\u001b[0m         mode \u001b[39m+\u001b[39m\u001b[39m=\u001b[39m \u001b[39m\"\u001b[39m\u001b[39mb\u001b[39m\u001b[39m\"\u001b[39m\n\u001b[1;32m-> 1661\u001b[0m \u001b[39mself\u001b[39m\u001b[39m.\u001b[39mhandles \u001b[39m=\u001b[39m get_handle(\n\u001b[0;32m   1662\u001b[0m     f,\n\u001b[0;32m   1663\u001b[0m     mode,\n\u001b[0;32m   1664\u001b[0m     encoding\u001b[39m=\u001b[39;49m\u001b[39mself\u001b[39;49m\u001b[39m.\u001b[39;49moptions\u001b[39m.\u001b[39;49mget(\u001b[39m\"\u001b[39;49m\u001b[39mencoding\u001b[39;49m\u001b[39m\"\u001b[39;49m, \u001b[39mNone\u001b[39;49;00m),\n\u001b[0;32m   1665\u001b[0m     compression\u001b[39m=\u001b[39;49m\u001b[39mself\u001b[39;49m\u001b[39m.\u001b[39;49moptions\u001b[39m.\u001b[39;49mget(\u001b[39m\"\u001b[39;49m\u001b[39mcompression\u001b[39;49m\u001b[39m\"\u001b[39;49m, \u001b[39mNone\u001b[39;49;00m),\n\u001b[0;32m   1666\u001b[0m     memory_map\u001b[39m=\u001b[39;49m\u001b[39mself\u001b[39;49m\u001b[39m.\u001b[39;49moptions\u001b[39m.\u001b[39;49mget(\u001b[39m\"\u001b[39;49m\u001b[39mmemory_map\u001b[39;49m\u001b[39m\"\u001b[39;49m, \u001b[39mFalse\u001b[39;49;00m),\n\u001b[0;32m   1667\u001b[0m     is_text\u001b[39m=\u001b[39;49mis_text,\n\u001b[0;32m   1668\u001b[0m     errors\u001b[39m=\u001b[39;49m\u001b[39mself\u001b[39;49m\u001b[39m.\u001b[39;49moptions\u001b[39m.\u001b[39;49mget(\u001b[39m\"\u001b[39;49m\u001b[39mencoding_errors\u001b[39;49m\u001b[39m\"\u001b[39;49m, \u001b[39m\"\u001b[39;49m\u001b[39mstrict\u001b[39;49m\u001b[39m\"\u001b[39;49m),\n\u001b[0;32m   1669\u001b[0m     storage_options\u001b[39m=\u001b[39;49m\u001b[39mself\u001b[39;49m\u001b[39m.\u001b[39;49moptions\u001b[39m.\u001b[39;49mget(\u001b[39m\"\u001b[39;49m\u001b[39mstorage_options\u001b[39;49m\u001b[39m\"\u001b[39;49m, \u001b[39mNone\u001b[39;49;00m),\n\u001b[0;32m   1670\u001b[0m )\n\u001b[0;32m   1671\u001b[0m \u001b[39massert\u001b[39;00m \u001b[39mself\u001b[39m\u001b[39m.\u001b[39mhandles \u001b[39mis\u001b[39;00m \u001b[39mnot\u001b[39;00m \u001b[39mNone\u001b[39;00m\n\u001b[0;32m   1672\u001b[0m f \u001b[39m=\u001b[39m \u001b[39mself\u001b[39m\u001b[39m.\u001b[39mhandles\u001b[39m.\u001b[39mhandle\n",
      "File \u001b[1;32mc:\\Users\\smhrd\\AppData\\Local\\Programs\\Python\\Python310\\lib\\site-packages\\pandas\\io\\common.py:859\u001b[0m, in \u001b[0;36mget_handle\u001b[1;34m(path_or_buf, mode, encoding, compression, memory_map, is_text, errors, storage_options)\u001b[0m\n\u001b[0;32m    854\u001b[0m \u001b[39melif\u001b[39;00m \u001b[39misinstance\u001b[39m(handle, \u001b[39mstr\u001b[39m):\n\u001b[0;32m    855\u001b[0m     \u001b[39m# Check whether the filename is to be opened in binary mode.\u001b[39;00m\n\u001b[0;32m    856\u001b[0m     \u001b[39m# Binary mode does not support 'encoding' and 'newline'.\u001b[39;00m\n\u001b[0;32m    857\u001b[0m     \u001b[39mif\u001b[39;00m ioargs\u001b[39m.\u001b[39mencoding \u001b[39mand\u001b[39;00m \u001b[39m\"\u001b[39m\u001b[39mb\u001b[39m\u001b[39m\"\u001b[39m \u001b[39mnot\u001b[39;00m \u001b[39min\u001b[39;00m ioargs\u001b[39m.\u001b[39mmode:\n\u001b[0;32m    858\u001b[0m         \u001b[39m# Encoding\u001b[39;00m\n\u001b[1;32m--> 859\u001b[0m         handle \u001b[39m=\u001b[39m \u001b[39mopen\u001b[39;49m(\n\u001b[0;32m    860\u001b[0m             handle,\n\u001b[0;32m    861\u001b[0m             ioargs\u001b[39m.\u001b[39;49mmode,\n\u001b[0;32m    862\u001b[0m             encoding\u001b[39m=\u001b[39;49mioargs\u001b[39m.\u001b[39;49mencoding,\n\u001b[0;32m    863\u001b[0m             errors\u001b[39m=\u001b[39;49merrors,\n\u001b[0;32m    864\u001b[0m             newline\u001b[39m=\u001b[39;49m\u001b[39m\"\u001b[39;49m\u001b[39m\"\u001b[39;49m,\n\u001b[0;32m    865\u001b[0m         )\n\u001b[0;32m    866\u001b[0m     \u001b[39melse\u001b[39;00m:\n\u001b[0;32m    867\u001b[0m         \u001b[39m# Binary mode\u001b[39;00m\n\u001b[0;32m    868\u001b[0m         handle \u001b[39m=\u001b[39m \u001b[39mopen\u001b[39m(handle, ioargs\u001b[39m.\u001b[39mmode)\n",
      "\u001b[1;31mFileNotFoundError\u001b[0m: [Errno 2] No such file or directory: 'C:/datazip/testzip/testzip.csv'"
     ]
    }
   ],
   "source": [
    "data = pd.read_csv(\"C:/datazip/testzip/testzip.csv\", index_col=False)\n"
   ]
  },
  {
   "cell_type": "code",
   "execution_count": null,
   "metadata": {},
   "outputs": [],
   "source": [
    "data['imagePath'] = data['imagePath'].astype(\"object\")"
   ]
  },
  {
   "cell_type": "code",
   "execution_count": null,
   "metadata": {},
   "outputs": [
    {
     "name": "stdout",
     "output_type": "stream",
     "text": [
      "<class 'pandas.core.frame.DataFrame'>\n",
      "RangeIndex: 3 entries, 0 to 2\n",
      "Data columns (total 12 columns):\n",
      " #   Column       Non-Null Count  Dtype  \n",
      "---  ------       --------------  -----  \n",
      " 0   imagePath    3 non-null      object \n",
      " 1   label        3 non-null      object \n",
      " 2   Shape_num    3 non-null      int64  \n",
      " 3   point1_x     3 non-null      int64  \n",
      " 4   point1_y     3 non-null      int64  \n",
      " 5   point2_x     3 non-null      int64  \n",
      " 6   point2_y     3 non-null      int64  \n",
      " 7   imageHeight  3 non-null      int64  \n",
      " 8   imageWidth   3 non-null      int64  \n",
      " 9   ratio        3 non-null      float64\n",
      " 10  wide         3 non-null      int64  \n",
      " 11  bwide        3 non-null      int64  \n",
      "dtypes: float64(1), int64(9), object(2)\n",
      "memory usage: 416.0+ bytes\n"
     ]
    }
   ],
   "source": [
    "data.info()"
   ]
  },
  {
   "cell_type": "code",
   "execution_count": null,
   "metadata": {},
   "outputs": [],
   "source": [
    "import pandas as pd \n",
    "import pymysql \n",
    "import matplotlib.pyplot as plt \n",
    "%matplotlib inline \n",
    "import seaborn as sns \n",
    "\n",
    "# C:/datazip/testzip.zip\n",
    "def file_db(od_path) : \n",
    "\n",
    "    conn = pymysql.connect(host='project-db-cgi.smhrd.com',port=3307, user = 'cgi_3_230524_1', password='smhrd1', db = 'cgi_3_230524_1',charset = 'utf8') \n",
    "    curs = conn.cursor(pymysql.cursors.DictCursor)\n",
    "\n",
    "\n",
    "    path = str(od_path.split(\".\")[0])\n",
    "    table_name = str(od_path.split(\"/\")[2].split(\".\")[0])\n",
    "    \n",
    "    sql = f'''CREATE TABLE {table_name}_table( \n",
    "    num int(15) not null auto_increment primary key,\n",
    "    imagePath varchar(500) not null, \n",
    "    label varchar(500) not null , \n",
    "    Shape_num  int(15) not null ,\n",
    "    point1_x int(15) not null ,\n",
    "    point1_y int(15) not null ,\n",
    "    point2_x int(15) not null ,\n",
    "    point2_y int(15) not null ,\n",
    "    imageHeight int(15) not null ,\n",
    "    imageWidth int(15) not null ,\n",
    "    ratio int(15) not null\n",
    "    ) \n",
    "    ''' \n",
    "    curs.execute(sql) \n",
    "\n",
    "    stores_info = pd.read_csv(f\"{path}/{table_name}.csv\" ,index_col=False)\n",
    "\n",
    "    for index, row in stores_info.iterrows():\n",
    "        tu = (\n",
    "            row.num,\n",
    "            row.imagePath,\n",
    "            row.label,\n",
    "            int(row.Shape_num),\n",
    "            float(row.point1_x),\n",
    "            float(row.point1_y),\n",
    "            float(row.point2_x),\n",
    "            float(row.point2_y),\n",
    "            int(row.imageHeight),\n",
    "            int(row.imageWidth),\n",
    "            float(row.ratio)\n",
    "        )\n",
    "        curs.execute(\n",
    "            f\"\"\"INSERT IGNORE INTO {table_name}_table (num, imagePath, label, Shape_num, point1_x, point1_y, point2_x, point2_y, imageHeight, imageWidth, ratio) VALUES (%s, %s, %s, %s, %s, %s, %s, %s, %s, %s,%s)\"\"\",\n",
    "            tu\n",
    "        )\n",
    "        \n",
    "    # 결과 저장 및 데이터베이스 종료\n",
    "    conn.commit()\n",
    "    conn.close()"
   ]
  },
  {
   "cell_type": "code",
   "execution_count": 19,
   "metadata": {},
   "outputs": [
    {
     "name": "stdout",
     "output_type": "stream",
     "text": [
      " * Serving Flask app '__main__'\n",
      " * Debug mode: off\n"
     ]
    },
    {
     "name": "stderr",
     "output_type": "stream",
     "text": [
      "WARNING: This is a development server. Do not use it in a production deployment. Use a production WSGI server instead.\n",
      " * Running on http://127.0.0.1:5000\n",
      "Press CTRL+C to quit\n",
      "127.0.0.1 - - [09/Jun/2023 15:50:33] \"POST /test HTTP/1.1\" 200 -\n"
     ]
    },
    {
     "name": "stdout",
     "output_type": "stream",
     "text": [
      "C:/datazip/testzip.zip\n",
      "{'label': 'pack', 'points': [[926.4466239999999, 1682.1], [1247.866464, 2283.7510079999997]], 'group_id': None, 'shape_type': 'rectangle', 'flags': {}}\n",
      "{'label': 'pack', 'points': [[920.1440959999999, 1543.5], [1462.147872, 1968.751008]], 'group_id': None, 'shape_type': 'rectangle', 'flags': {}}\n",
      "{'label': 'pack', 'points': [[891.78272, 1890.0020160000001], [1317.192, 2447.5510080000004]], 'group_id': None, 'shape_type': 'rectangle', 'flags': {}}\n",
      "Ratio for image 3403540 : [2.116038243348983]\n",
      "Wide for image 3403540 : 9160704\n",
      "Bide for image 3403540 : 193844\n",
      "Ratio for image 3403580 : [2.116038243348983, 2.5145447336798568]\n",
      "Wide for image 3403580 : 9160704\n",
      "Bide for image 3403580 : 230350\n",
      "Ratio for image 3403580 : [2.116038243348983, 2.5145447336798568, 2.5887748365191148]\n",
      "Wide for image 3403580 : 9160704\n",
      "Bide for image 3403580 : 237150\n",
      "C:/datazip/testzip/testzip.csv\n"
     ]
    }
   ],
   "source": [
    "# 플라스크 실행 코드\n",
    "\n",
    "app = Flask(__name__)\n",
    "CORS(app)\n",
    "\n",
    "# 클릭했을때 반환해주는거잖아\n",
    "@app.route('/test', methods=['POST'])\n",
    "def handle_ajax_request():\n",
    "    time.sleep(1)\n",
    "    od_path = request.form.get('od_path')  # Ajax 요청에서 'od_path' 값을 가져옵니다.\n",
    "    print(od_path)\n",
    "\n",
    "    jsonzip(od_path)\n",
    "    path = dataframe(od_path)\n",
    "    # 응답을 반환합니다.\n",
    "\n",
    "    data =pd.read_csv(path,index_col=False)\n",
    "    data['imagePath'] = data['imagePath'].astype(\"object\")\n",
    "    print(path)\n",
    "    # response = data.to_json(date_format=\"cp949\", orient='index', indent=4)\n",
    "    # param = response.get_json()\n",
    "    # return jsonify(data.to_dict())\n",
    "    return Response(data.to_json(orient=\"records\"), mimetype='application/json')\n",
    "\n",
    "if __name__ == '__main__':\n",
    "    app.run()"
   ]
  }
 ],
 "metadata": {
  "kernelspec": {
   "display_name": "Python 3",
   "language": "python",
   "name": "python3"
  },
  "language_info": {
   "codemirror_mode": {
    "name": "ipython",
    "version": 3
   },
   "file_extension": ".py",
   "mimetype": "text/x-python",
   "name": "python",
   "nbconvert_exporter": "python",
   "pygments_lexer": "ipython3",
   "version": "3.10.10"
  },
  "orig_nbformat": 4
 },
 "nbformat": 4,
 "nbformat_minor": 2
}
