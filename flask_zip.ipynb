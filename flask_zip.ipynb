{
 "cells": [
  {
   "cell_type": "code",
   "execution_count": 1,
   "metadata": {},
   "outputs": [],
   "source": [
    "from flask import Flask, request, jsonify, Response\n",
    "from flask_cors import CORS\n",
    "import zipfile\n",
    "from zipfile import ZipFile\n",
    "import os\n",
    "import json\n",
    "import pandas as pd\n",
    "import numpy as np"
   ]
  },
  {
   "cell_type": "code",
   "execution_count": 2,
   "metadata": {},
   "outputs": [],
   "source": [
    "# 폴더안에있는 Json파일 전부\n",
    "def jsonzip(od_path):\n",
    "    with zipfile.ZipFile(od_path, 'r') as obj:\n",
    "        obj.namelist()\t\t# zip파일 내의 파일 이름을 가진 list 반환\n",
    "        obj.extractall(\"C:/datazip/\")\n",
    "\n",
    " \n",
    "def dataframe(od_path) :\n",
    "    temp = od_path\n",
    "    path = temp.split(\".\")[0]\n",
    "    filename = od_path.split(\"/\")[2].split(\".\")[0]\n",
    "    list = os.listdir(path)\n",
    "    json_file_list = [path+'/'+ file for file in list if file.endswith('.json')]\n",
    "    \n",
    "    imagePath = [] #이미지 파일명 저장 리스트\n",
    "    label=[] #분류 라벨 값 저장 리스트\n",
    "    points_1_x=[] #boundary box x,y좌표 리스트\n",
    "    points_1_y=[] #boundary box x,y좌표 리스트\n",
    "    points_2_x=[] #boundary box x,y좌표 리스트\n",
    "    points_2_y=[] #boundary box x,y좌표 리스트\n",
    "    errorFile =[] #에러 파일 검출 리스트\n",
    "    shapes_list = [] \n",
    "    imageHeight = []\n",
    "    imageWidth = []\n",
    "    ratio = []\n",
    "\n",
    "    for i in json_file_list: #json_file_list의 하나의 인덱스 마다 i라는 변수로 사용한다.\n",
    "        with open(i,'r') as j: #\n",
    "            try:\n",
    "                contents=json.loads(j.read())  # open : r - 읽기모드, w-쓰기모드, a-추가모드\n",
    "                for k in range(len(contents['shapes'])): # contents라는 json객체 안에 여러 객체가 있을 경우를 대비해 반복문안에 shapes의 길이로 반복한다\n",
    "                                                        # shapes의 내용이 2개면 2번 반복하는 형태 --> 변수는 k사용\n",
    "                    print(contents['shapes'][k]) # 결과 확인 및 데이터 확인                 \n",
    "                    shapes_list.append(len(contents['shapes']))\n",
    "                    imagePath.append(str((contents['imagePath']).replace('.jpg',\"\"))) # 따로 구별하는 변수가 없어서 이미지 경로에 확장자만 제거하여 사용\n",
    "                    label.append(contents['shapes'][k]['label']) # label은 분리수거 되는 분류 클래스로 shapes->label 키 값으로 접근\n",
    "                    points_1_x.append(contents['shapes'][k]['points'][0][0])\n",
    "                    points_1_y.append(contents['shapes'][k]['points'][0][1])\n",
    "                    points_2_x.append(contents['shapes'][k]['points'][1][0])\n",
    "                    points_2_y.append(contents['shapes'][k]['points'][1][1])\n",
    "                    imageHeight.append(contents['imageHeight'])\n",
    "                    imageWidth.append(contents['imageWidth'])\n",
    "            except:\n",
    "                errorFile.append(i) # 크기가 0이거나, 파일 불러올 때 오류를 유발하는 파일명 errorFile리스트에 담는다.\n",
    "\n",
    "    # 데이터 프레임 만들기\n",
    "    # 딕셔너리 형태로 리스트를 묶어서 넣어준다.\n",
    "    points_1_x=np.round(points_1_x).astype('int')\n",
    "    points_1_y=np.round(points_1_y).astype('int')\n",
    "    points_2_x=np.round(points_2_x).astype('int')\n",
    "    points_2_y=np.round(points_2_y).astype('int')\n",
    "    for i in range(len(imagePath)) :\n",
    "        ratio.append((((points_2_x[i] - points_1_x[i])* (points_2_y[i] - points_1_y[i]))/( imageHeight[i] * imageWidth[i]))*100)\n",
    "        print(\"Ratio for image\", imagePath[i], \":\", ratio)\n",
    "\n",
    "    ratio=np.round(ratio,2)\n",
    "\n",
    "    data=pd.DataFrame({\"imagePath\":imagePath,\n",
    "                        \"label\":label,\n",
    "                        \"Shape_num\":shapes_list,\n",
    "                        \"point1_x\":points_1_x,\n",
    "                        \"point1_y\":points_1_y,\n",
    "                        \"point2_x\":points_2_x,\n",
    "                        \"point2_y\":points_2_y,\n",
    "                        \"imageHeight\":imageHeight,\n",
    "                        \"imageWidth\":imageWidth,\n",
    "                        \"ratio\" : ratio\n",
    "                        })\n",
    "    data.to_csv(f\"{path}/{filename}.csv\",index=False)\n",
    "    return f\"{path}/{filename}.csv\""
   ]
  },
  {
   "cell_type": "code",
   "execution_count": 58,
   "metadata": {},
   "outputs": [],
   "source": [
    "data = pd.read_csv(\"C:/datazip/testzip/testzip.csv\", index_col=False)\n"
   ]
  },
  {
   "cell_type": "code",
   "execution_count": 59,
   "metadata": {},
   "outputs": [],
   "source": [
    "data['imagePath'] = data['imagePath'].astype(\"object\")"
   ]
  },
  {
   "cell_type": "code",
   "execution_count": 60,
   "metadata": {},
   "outputs": [
    {
     "name": "stdout",
     "output_type": "stream",
     "text": [
      "<class 'pandas.core.frame.DataFrame'>\n",
      "RangeIndex: 3 entries, 0 to 2\n",
      "Data columns (total 10 columns):\n",
      " #   Column       Non-Null Count  Dtype  \n",
      "---  ------       --------------  -----  \n",
      " 0   imagePath    3 non-null      object \n",
      " 1   label        3 non-null      object \n",
      " 2   Shape_num    3 non-null      int64  \n",
      " 3   point1_x     3 non-null      int64  \n",
      " 4   point1_y     3 non-null      int64  \n",
      " 5   point2_x     3 non-null      int64  \n",
      " 6   point2_y     3 non-null      int64  \n",
      " 7   imageHeight  3 non-null      int64  \n",
      " 8   imageWidth   3 non-null      int64  \n",
      " 9   ratio        3 non-null      float64\n",
      "dtypes: float64(1), int64(7), object(2)\n",
      "memory usage: 368.0+ bytes\n"
     ]
    }
   ],
   "source": [
    "data.info()"
   ]
  },
  {
   "cell_type": "code",
   "execution_count": 3,
   "metadata": {},
   "outputs": [
    {
     "ename": "KeyboardInterrupt",
     "evalue": "",
     "output_type": "error",
     "traceback": [
      "\u001b[1;31m---------------------------------------------------------------------------\u001b[0m",
      "\u001b[1;31mKeyboardInterrupt\u001b[0m                         Traceback (most recent call last)",
      "Cell \u001b[1;32mIn[3], line 5\u001b[0m\n\u001b[0;32m      3\u001b[0m \u001b[39mimport\u001b[39;00m \u001b[39mmatplotlib\u001b[39;00m\u001b[39m.\u001b[39;00m\u001b[39mpyplot\u001b[39;00m \u001b[39mas\u001b[39;00m \u001b[39mplt\u001b[39;00m \n\u001b[0;32m      4\u001b[0m get_ipython()\u001b[39m.\u001b[39mrun_line_magic(\u001b[39m'\u001b[39m\u001b[39mmatplotlib\u001b[39m\u001b[39m'\u001b[39m, \u001b[39m'\u001b[39m\u001b[39minline\u001b[39m\u001b[39m'\u001b[39m)\n\u001b[1;32m----> 5\u001b[0m \u001b[39mimport\u001b[39;00m \u001b[39mseaborn\u001b[39;00m \u001b[39mas\u001b[39;00m \u001b[39msns\u001b[39;00m \n\u001b[0;32m      7\u001b[0m \u001b[39m# C:/datazip/testzip.zip\u001b[39;00m\n\u001b[0;32m      8\u001b[0m \u001b[39mdef\u001b[39;00m \u001b[39mfile_db\u001b[39m(od_path) : \n",
      "File \u001b[1;32mc:\\Users\\smhrd\\AppData\\Local\\Programs\\Python\\Python311\\Lib\\site-packages\\seaborn\\__init__.py:5\u001b[0m\n\u001b[0;32m      3\u001b[0m \u001b[39mfrom\u001b[39;00m \u001b[39m.\u001b[39;00m\u001b[39mutils\u001b[39;00m \u001b[39mimport\u001b[39;00m \u001b[39m*\u001b[39m  \u001b[39m# noqa: F401,F403\u001b[39;00m\n\u001b[0;32m      4\u001b[0m \u001b[39mfrom\u001b[39;00m \u001b[39m.\u001b[39;00m\u001b[39mpalettes\u001b[39;00m \u001b[39mimport\u001b[39;00m \u001b[39m*\u001b[39m  \u001b[39m# noqa: F401,F403\u001b[39;00m\n\u001b[1;32m----> 5\u001b[0m \u001b[39mfrom\u001b[39;00m \u001b[39m.\u001b[39;00m\u001b[39mrelational\u001b[39;00m \u001b[39mimport\u001b[39;00m \u001b[39m*\u001b[39m  \u001b[39m# noqa: F401,F403\u001b[39;00m\n\u001b[0;32m      6\u001b[0m \u001b[39mfrom\u001b[39;00m \u001b[39m.\u001b[39;00m\u001b[39mregression\u001b[39;00m \u001b[39mimport\u001b[39;00m \u001b[39m*\u001b[39m  \u001b[39m# noqa: F401,F403\u001b[39;00m\n\u001b[0;32m      7\u001b[0m \u001b[39mfrom\u001b[39;00m \u001b[39m.\u001b[39;00m\u001b[39mcategorical\u001b[39;00m \u001b[39mimport\u001b[39;00m \u001b[39m*\u001b[39m  \u001b[39m# noqa: F401,F403\u001b[39;00m\n",
      "File \u001b[1;32mc:\\Users\\smhrd\\AppData\\Local\\Programs\\Python\\Python311\\Lib\\site-packages\\seaborn\\relational.py:17\u001b[0m\n\u001b[0;32m      8\u001b[0m \u001b[39mfrom\u001b[39;00m \u001b[39m.\u001b[39;00m\u001b[39m_oldcore\u001b[39;00m \u001b[39mimport\u001b[39;00m (\n\u001b[0;32m      9\u001b[0m     VectorPlotter,\n\u001b[0;32m     10\u001b[0m )\n\u001b[0;32m     11\u001b[0m \u001b[39mfrom\u001b[39;00m \u001b[39m.\u001b[39;00m\u001b[39mutils\u001b[39;00m \u001b[39mimport\u001b[39;00m (\n\u001b[0;32m     12\u001b[0m     locator_to_legend_entries,\n\u001b[0;32m     13\u001b[0m     adjust_legend_subtitles,\n\u001b[0;32m     14\u001b[0m     _default_color,\n\u001b[0;32m     15\u001b[0m     _deprecate_ci,\n\u001b[0;32m     16\u001b[0m )\n\u001b[1;32m---> 17\u001b[0m \u001b[39mfrom\u001b[39;00m \u001b[39m.\u001b[39;00m\u001b[39m_statistics\u001b[39;00m \u001b[39mimport\u001b[39;00m EstimateAggregator\n\u001b[0;32m     18\u001b[0m \u001b[39mfrom\u001b[39;00m \u001b[39m.\u001b[39;00m\u001b[39maxisgrid\u001b[39;00m \u001b[39mimport\u001b[39;00m FacetGrid, _facet_docs\n\u001b[0;32m     19\u001b[0m \u001b[39mfrom\u001b[39;00m \u001b[39m.\u001b[39;00m\u001b[39m_docstrings\u001b[39;00m \u001b[39mimport\u001b[39;00m DocstringComponents, _core_docs\n",
      "File \u001b[1;32mc:\\Users\\smhrd\\AppData\\Local\\Programs\\Python\\Python311\\Lib\\site-packages\\seaborn\\_statistics.py:31\u001b[0m\n\u001b[0;32m     29\u001b[0m \u001b[39mimport\u001b[39;00m \u001b[39mpandas\u001b[39;00m \u001b[39mas\u001b[39;00m \u001b[39mpd\u001b[39;00m\n\u001b[0;32m     30\u001b[0m \u001b[39mtry\u001b[39;00m:\n\u001b[1;32m---> 31\u001b[0m     \u001b[39mfrom\u001b[39;00m \u001b[39mscipy\u001b[39;00m\u001b[39m.\u001b[39;00m\u001b[39mstats\u001b[39;00m \u001b[39mimport\u001b[39;00m gaussian_kde\n\u001b[0;32m     32\u001b[0m     _no_scipy \u001b[39m=\u001b[39m \u001b[39mFalse\u001b[39;00m\n\u001b[0;32m     33\u001b[0m \u001b[39mexcept\u001b[39;00m \u001b[39mImportError\u001b[39;00m:\n",
      "File \u001b[1;32mc:\\Users\\smhrd\\AppData\\Local\\Programs\\Python\\Python311\\Lib\\site-packages\\scipy\\stats\\__init__.py:485\u001b[0m\n\u001b[0;32m      1\u001b[0m \u001b[39m\"\"\"\u001b[39;00m\n\u001b[0;32m      2\u001b[0m \u001b[39m.. _statsrefmanual:\u001b[39;00m\n\u001b[0;32m      3\u001b[0m \n\u001b[1;32m   (...)\u001b[0m\n\u001b[0;32m    480\u001b[0m \n\u001b[0;32m    481\u001b[0m \u001b[39m\"\"\"\u001b[39;00m\n\u001b[0;32m    483\u001b[0m \u001b[39mfrom\u001b[39;00m \u001b[39m.\u001b[39;00m\u001b[39m_warnings_errors\u001b[39;00m \u001b[39mimport\u001b[39;00m (ConstantInputWarning, NearConstantInputWarning,\n\u001b[0;32m    484\u001b[0m                                DegenerateDataWarning, FitError)\n\u001b[1;32m--> 485\u001b[0m \u001b[39mfrom\u001b[39;00m \u001b[39m.\u001b[39;00m\u001b[39m_stats_py\u001b[39;00m \u001b[39mimport\u001b[39;00m \u001b[39m*\u001b[39m\n\u001b[0;32m    486\u001b[0m \u001b[39mfrom\u001b[39;00m \u001b[39m.\u001b[39;00m\u001b[39m_variation\u001b[39;00m \u001b[39mimport\u001b[39;00m variation\n\u001b[0;32m    487\u001b[0m \u001b[39mfrom\u001b[39;00m \u001b[39m.\u001b[39;00m\u001b[39mdistributions\u001b[39;00m \u001b[39mimport\u001b[39;00m \u001b[39m*\u001b[39m\n",
      "File \u001b[1;32mc:\\Users\\smhrd\\AppData\\Local\\Programs\\Python\\Python311\\Lib\\site-packages\\scipy\\stats\\_stats_py.py:46\u001b[0m\n\u001b[0;32m     44\u001b[0m \u001b[39mimport\u001b[39;00m \u001b[39mscipy\u001b[39;00m\u001b[39m.\u001b[39;00m\u001b[39mspecial\u001b[39;00m \u001b[39mas\u001b[39;00m \u001b[39mspecial\u001b[39;00m\n\u001b[0;32m     45\u001b[0m \u001b[39mfrom\u001b[39;00m \u001b[39mscipy\u001b[39;00m \u001b[39mimport\u001b[39;00m linalg\n\u001b[1;32m---> 46\u001b[0m \u001b[39mfrom\u001b[39;00m \u001b[39m.\u001b[39;00m \u001b[39mimport\u001b[39;00m distributions\n\u001b[0;32m     47\u001b[0m \u001b[39mfrom\u001b[39;00m \u001b[39m.\u001b[39;00m \u001b[39mimport\u001b[39;00m _mstats_basic \u001b[39mas\u001b[39;00m mstats_basic\n\u001b[0;32m     48\u001b[0m \u001b[39mfrom\u001b[39;00m \u001b[39m.\u001b[39;00m\u001b[39m_stats_mstats_common\u001b[39;00m \u001b[39mimport\u001b[39;00m (_find_repeats, linregress, theilslopes,\n\u001b[0;32m     49\u001b[0m                                    siegelslopes)\n",
      "File \u001b[1;32mc:\\Users\\smhrd\\AppData\\Local\\Programs\\Python\\Python311\\Lib\\site-packages\\scipy\\stats\\distributions.py:11\u001b[0m\n\u001b[0;32m      8\u001b[0m \u001b[39mfrom\u001b[39;00m \u001b[39m.\u001b[39;00m\u001b[39m_distn_infrastructure\u001b[39;00m \u001b[39mimport\u001b[39;00m (rv_discrete, rv_continuous, rv_frozen)\n\u001b[0;32m     10\u001b[0m \u001b[39mfrom\u001b[39;00m \u001b[39m.\u001b[39;00m \u001b[39mimport\u001b[39;00m _continuous_distns\n\u001b[1;32m---> 11\u001b[0m \u001b[39mfrom\u001b[39;00m \u001b[39m.\u001b[39;00m \u001b[39mimport\u001b[39;00m _discrete_distns\n\u001b[0;32m     13\u001b[0m \u001b[39mfrom\u001b[39;00m \u001b[39m.\u001b[39;00m\u001b[39m_continuous_distns\u001b[39;00m \u001b[39mimport\u001b[39;00m \u001b[39m*\u001b[39m\n\u001b[0;32m     14\u001b[0m \u001b[39mfrom\u001b[39;00m \u001b[39m.\u001b[39;00m\u001b[39m_levy_stable\u001b[39;00m \u001b[39mimport\u001b[39;00m levy_stable\n",
      "File \u001b[1;32mc:\\Users\\smhrd\\AppData\\Local\\Programs\\Python\\Python311\\Lib\\site-packages\\scipy\\stats\\_discrete_distns.py:11\u001b[0m\n\u001b[0;32m      9\u001b[0m \u001b[39mfrom\u001b[39;00m \u001b[39mscipy\u001b[39;00m\u001b[39m.\u001b[39;00m\u001b[39mspecial\u001b[39;00m \u001b[39mimport\u001b[39;00m entr, logsumexp, betaln, gammaln \u001b[39mas\u001b[39;00m gamln, zeta\n\u001b[0;32m     10\u001b[0m \u001b[39mfrom\u001b[39;00m \u001b[39mscipy\u001b[39;00m\u001b[39m.\u001b[39;00m\u001b[39m_lib\u001b[39;00m\u001b[39m.\u001b[39;00m\u001b[39m_util\u001b[39;00m \u001b[39mimport\u001b[39;00m _lazywhere, rng_integers\n\u001b[1;32m---> 11\u001b[0m \u001b[39mfrom\u001b[39;00m \u001b[39mscipy\u001b[39;00m\u001b[39m.\u001b[39;00m\u001b[39minterpolate\u001b[39;00m \u001b[39mimport\u001b[39;00m interp1d\n\u001b[0;32m     13\u001b[0m \u001b[39mfrom\u001b[39;00m \u001b[39mnumpy\u001b[39;00m \u001b[39mimport\u001b[39;00m floor, ceil, log, exp, sqrt, log1p, expm1, tanh, cosh, sinh\n\u001b[0;32m     15\u001b[0m \u001b[39mimport\u001b[39;00m \u001b[39mnumpy\u001b[39;00m \u001b[39mas\u001b[39;00m \u001b[39mnp\u001b[39;00m\n",
      "File \u001b[1;32mc:\\Users\\smhrd\\AppData\\Local\\Programs\\Python\\Python311\\Lib\\site-packages\\scipy\\interpolate\\__init__.py:167\u001b[0m\n\u001b[0;32m      1\u001b[0m \u001b[39m\"\"\"\u001b[39;00m\n\u001b[0;32m      2\u001b[0m \u001b[39m========================================\u001b[39;00m\n\u001b[0;32m      3\u001b[0m \u001b[39mInterpolation (:mod:`scipy.interpolate`)\u001b[39;00m\n\u001b[1;32m   (...)\u001b[0m\n\u001b[0;32m    165\u001b[0m \u001b[39m(should not be used in new code).\u001b[39;00m\n\u001b[0;32m    166\u001b[0m \u001b[39m\"\"\"\u001b[39;00m\n\u001b[1;32m--> 167\u001b[0m \u001b[39mfrom\u001b[39;00m \u001b[39m.\u001b[39;00m\u001b[39m_interpolate\u001b[39;00m \u001b[39mimport\u001b[39;00m \u001b[39m*\u001b[39m\n\u001b[0;32m    168\u001b[0m \u001b[39mfrom\u001b[39;00m \u001b[39m.\u001b[39;00m\u001b[39m_fitpack_py\u001b[39;00m \u001b[39mimport\u001b[39;00m \u001b[39m*\u001b[39m\n\u001b[0;32m    170\u001b[0m \u001b[39m# New interface to fitpack library:\u001b[39;00m\n",
      "File \u001b[1;32mc:\\Users\\smhrd\\AppData\\Local\\Programs\\Python\\Python311\\Lib\\site-packages\\scipy\\interpolate\\_interpolate.py:16\u001b[0m\n\u001b[0;32m     14\u001b[0m \u001b[39mfrom\u001b[39;00m \u001b[39m.\u001b[39;00m \u001b[39mimport\u001b[39;00m _fitpack\n\u001b[0;32m     15\u001b[0m \u001b[39mfrom\u001b[39;00m \u001b[39m.\u001b[39;00m\u001b[39m_polyint\u001b[39;00m \u001b[39mimport\u001b[39;00m _Interpolator1D\n\u001b[1;32m---> 16\u001b[0m \u001b[39mfrom\u001b[39;00m \u001b[39m.\u001b[39;00m \u001b[39mimport\u001b[39;00m _ppoly\n\u001b[0;32m     17\u001b[0m \u001b[39mfrom\u001b[39;00m \u001b[39m.\u001b[39;00m\u001b[39m_fitpack2\u001b[39;00m \u001b[39mimport\u001b[39;00m RectBivariateSpline\n\u001b[0;32m     18\u001b[0m \u001b[39mfrom\u001b[39;00m \u001b[39m.\u001b[39;00m\u001b[39minterpnd\u001b[39;00m \u001b[39mimport\u001b[39;00m _ndim_coords_from_arrays\n",
      "File \u001b[1;32m<frozen importlib._bootstrap>:405\u001b[0m, in \u001b[0;36mparent\u001b[1;34m(self)\u001b[0m\n",
      "\u001b[1;31mKeyboardInterrupt\u001b[0m: "
     ]
    }
   ],
   "source": [
    "import pandas as pd \n",
    "import pymysql \n",
    "import matplotlib.pyplot as plt \n",
    "%matplotlib inline \n",
    "import seaborn as sns \n",
    "\n",
    "# C:/datazip/testzip.zip\n",
    "def file_db(od_path) : \n",
    "\n",
    "    conn = pymysql.connect(host='project-db-cgi.smhrd.com',port=3307, user = 'cgi_3_230524_1', password='smhrd1', db = 'cgi_3_230524_1',charset = 'utf8') \n",
    "    curs = conn.cursor(pymysql.cursors.DictCursor)\n",
    "\n",
    "\n",
    "    path = str(od_path.split(\".\")[0])\n",
    "    table_name = str(od_path.split(\"/\")[2].split(\".\")[0])\n",
    "    \n",
    "    sql = f'''CREATE TABLE {table_name}_table( \n",
    "    num int(15) not null auto_increment primary key,\n",
    "    imagePath varchar(500) not null, \n",
    "    label varchar(500) not null , \n",
    "    Shape_num  int(15) not null ,\n",
    "    point1_x int(15) not null ,\n",
    "    point1_y int(15) not null ,\n",
    "    point2_x int(15) not null ,\n",
    "    point2_y int(15) not null ,\n",
    "    imageHeight int(15) not null ,\n",
    "    imageWidth int(15) not null ,\n",
    "    ratio int(15) not null\n",
    "    ) \n",
    "    ''' \n",
    "    curs.execute(sql) \n",
    "\n",
    "    stores_info = pd.read_csv(f\"{path}/{table_name}.csv\" ,index_col=False)\n",
    "\n",
    "    for index, row in stores_info.iterrows():\n",
    "        tu = (\n",
    "            row.num,\n",
    "            row.imagePath,\n",
    "            row.label,\n",
    "            int(row.Shape_num),\n",
    "            float(row.point1_x),\n",
    "            float(row.point1_y),\n",
    "            float(row.point2_x),\n",
    "            float(row.point2_y),\n",
    "            int(row.imageHeight),\n",
    "            int(row.imageWidth),\n",
    "            float(row.ratio)\n",
    "        )\n",
    "        curs.execute(\n",
    "            f\"\"\"INSERT IGNORE INTO {table_name}_table (num, imagePath, label, Shape_num, point1_x, point1_y, point2_x, point2_y, imageHeight, imageWidth, ratio) VALUES (%s, %s, %s, %s, %s, %s, %s, %s, %s, %s,%s)\"\"\",\n",
    "            tu\n",
    "        )\n",
    "        \n",
    "    # 결과 저장 및 데이터베이스 종료\n",
    "    conn.commit()\n",
    "    conn.close()"
   ]
  },
  {
   "cell_type": "code",
   "execution_count": 4,
   "metadata": {},
   "outputs": [
    {
     "name": "stdout",
     "output_type": "stream",
     "text": [
      " * Serving Flask app '__main__' (lazy loading)\n",
      " * Environment: production\n",
      "\u001b[31m   WARNING: This is a development server. Do not use it in a production deployment.\u001b[0m\n",
      "\u001b[2m   Use a production WSGI server instead.\u001b[0m\n",
      " * Debug mode: off\n"
     ]
    },
    {
     "name": "stderr",
     "output_type": "stream",
     "text": [
      "WARNING: This is a development server. Do not use it in a production deployment. Use a production WSGI server instead.\n",
      " * Running on http://127.0.0.1:5000\n",
      "Press CTRL+C to quit\n",
      "127.0.0.1 - - [08/Jun/2023 09:05:48] \"POST /test HTTP/1.1\" 200 -\n"
     ]
    },
    {
     "name": "stdout",
     "output_type": "stream",
     "text": [
      "C:/datazip/testzip.zip\n",
      "{'label': 'pack', 'points': [[926.4466239999999, 1682.1], [1247.866464, 2283.7510079999997]], 'group_id': None, 'shape_type': 'rectangle', 'flags': {}}\n",
      "{'label': 'pack', 'points': [[920.1440959999999, 1543.5], [1462.147872, 1968.751008]], 'group_id': None, 'shape_type': 'rectangle', 'flags': {}}\n",
      "{'label': 'pack', 'points': [[891.78272, 1890.0020160000001], [1317.192, 2447.5510080000004]], 'group_id': None, 'shape_type': 'rectangle', 'flags': {}}\n",
      "Ratio for image 3403540 : [2.116038243348983]\n",
      "Ratio for image 3403580 : [2.116038243348983, 2.5145447336798568]\n",
      "Ratio for image 3403580 : [2.116038243348983, 2.5145447336798568, 2.5887748365191148]\n",
      "C:/datazip/testzip/testzip.csv\n"
     ]
    },
    {
     "name": "stderr",
     "output_type": "stream",
     "text": [
      "127.0.0.1 - - [08/Jun/2023 09:07:04] \"POST /test HTTP/1.1\" 200 -\n"
     ]
    },
    {
     "name": "stdout",
     "output_type": "stream",
     "text": [
      "C:/datazip/testzip.zip\n",
      "{'label': 'pack', 'points': [[926.4466239999999, 1682.1], [1247.866464, 2283.7510079999997]], 'group_id': None, 'shape_type': 'rectangle', 'flags': {}}\n",
      "{'label': 'pack', 'points': [[920.1440959999999, 1543.5], [1462.147872, 1968.751008]], 'group_id': None, 'shape_type': 'rectangle', 'flags': {}}\n",
      "{'label': 'pack', 'points': [[891.78272, 1890.0020160000001], [1317.192, 2447.5510080000004]], 'group_id': None, 'shape_type': 'rectangle', 'flags': {}}\n",
      "Ratio for image 3403540 : [2.116038243348983]\n",
      "Ratio for image 3403580 : [2.116038243348983, 2.5145447336798568]\n",
      "Ratio for image 3403580 : [2.116038243348983, 2.5145447336798568, 2.5887748365191148]\n",
      "C:/datazip/testzip/testzip.csv\n"
     ]
    },
    {
     "name": "stderr",
     "output_type": "stream",
     "text": [
      "127.0.0.1 - - [08/Jun/2023 09:07:38] \"POST /test HTTP/1.1\" 200 -\n"
     ]
    },
    {
     "name": "stdout",
     "output_type": "stream",
     "text": [
      "C:/datazip/testzip.zip\n",
      "{'label': 'pack', 'points': [[926.4466239999999, 1682.1], [1247.866464, 2283.7510079999997]], 'group_id': None, 'shape_type': 'rectangle', 'flags': {}}\n",
      "{'label': 'pack', 'points': [[920.1440959999999, 1543.5], [1462.147872, 1968.751008]], 'group_id': None, 'shape_type': 'rectangle', 'flags': {}}\n",
      "{'label': 'pack', 'points': [[891.78272, 1890.0020160000001], [1317.192, 2447.5510080000004]], 'group_id': None, 'shape_type': 'rectangle', 'flags': {}}\n",
      "Ratio for image 3403540 : [2.116038243348983]\n",
      "Ratio for image 3403580 : [2.116038243348983, 2.5145447336798568]\n",
      "Ratio for image 3403580 : [2.116038243348983, 2.5145447336798568, 2.5887748365191148]\n",
      "C:/datazip/testzip/testzip.csv\n"
     ]
    },
    {
     "name": "stderr",
     "output_type": "stream",
     "text": [
      "127.0.0.1 - - [08/Jun/2023 09:08:22] \"POST /test HTTP/1.1\" 200 -\n"
     ]
    },
    {
     "name": "stdout",
     "output_type": "stream",
     "text": [
      "C:/datazip/testzip.zip\n",
      "{'label': 'pack', 'points': [[926.4466239999999, 1682.1], [1247.866464, 2283.7510079999997]], 'group_id': None, 'shape_type': 'rectangle', 'flags': {}}\n",
      "{'label': 'pack', 'points': [[920.1440959999999, 1543.5], [1462.147872, 1968.751008]], 'group_id': None, 'shape_type': 'rectangle', 'flags': {}}\n",
      "{'label': 'pack', 'points': [[891.78272, 1890.0020160000001], [1317.192, 2447.5510080000004]], 'group_id': None, 'shape_type': 'rectangle', 'flags': {}}\n",
      "Ratio for image 3403540 : [2.116038243348983]\n",
      "Ratio for image 3403580 : [2.116038243348983, 2.5145447336798568]\n",
      "Ratio for image 3403580 : [2.116038243348983, 2.5145447336798568, 2.5887748365191148]\n",
      "C:/datazip/testzip/testzip.csv\n"
     ]
    },
    {
     "name": "stderr",
     "output_type": "stream",
     "text": [
      "127.0.0.1 - - [08/Jun/2023 09:09:13] \"POST /test HTTP/1.1\" 200 -\n"
     ]
    },
    {
     "name": "stdout",
     "output_type": "stream",
     "text": [
      "C:/datazip/testzip.zip\n",
      "{'label': 'pack', 'points': [[926.4466239999999, 1682.1], [1247.866464, 2283.7510079999997]], 'group_id': None, 'shape_type': 'rectangle', 'flags': {}}\n",
      "{'label': 'pack', 'points': [[920.1440959999999, 1543.5], [1462.147872, 1968.751008]], 'group_id': None, 'shape_type': 'rectangle', 'flags': {}}\n",
      "{'label': 'pack', 'points': [[891.78272, 1890.0020160000001], [1317.192, 2447.5510080000004]], 'group_id': None, 'shape_type': 'rectangle', 'flags': {}}\n",
      "Ratio for image 3403540 : [2.116038243348983]\n",
      "Ratio for image 3403580 : [2.116038243348983, 2.5145447336798568]\n",
      "Ratio for image 3403580 : [2.116038243348983, 2.5145447336798568, 2.5887748365191148]\n",
      "C:/datazip/testzip/testzip.csv\n"
     ]
    },
    {
     "name": "stderr",
     "output_type": "stream",
     "text": [
      "127.0.0.1 - - [08/Jun/2023 09:10:07] \"POST /test HTTP/1.1\" 200 -\n"
     ]
    },
    {
     "name": "stdout",
     "output_type": "stream",
     "text": [
      "C:/datazip/testzip.zip\n",
      "{'label': 'pack', 'points': [[926.4466239999999, 1682.1], [1247.866464, 2283.7510079999997]], 'group_id': None, 'shape_type': 'rectangle', 'flags': {}}\n",
      "{'label': 'pack', 'points': [[920.1440959999999, 1543.5], [1462.147872, 1968.751008]], 'group_id': None, 'shape_type': 'rectangle', 'flags': {}}\n",
      "{'label': 'pack', 'points': [[891.78272, 1890.0020160000001], [1317.192, 2447.5510080000004]], 'group_id': None, 'shape_type': 'rectangle', 'flags': {}}\n",
      "Ratio for image 3403540 : [2.116038243348983]\n",
      "Ratio for image 3403580 : [2.116038243348983, 2.5145447336798568]\n",
      "Ratio for image 3403580 : [2.116038243348983, 2.5145447336798568, 2.5887748365191148]\n",
      "C:/datazip/testzip/testzip.csv\n"
     ]
    },
    {
     "name": "stderr",
     "output_type": "stream",
     "text": [
      "127.0.0.1 - - [08/Jun/2023 09:11:31] \"POST /test HTTP/1.1\" 200 -\n"
     ]
    },
    {
     "name": "stdout",
     "output_type": "stream",
     "text": [
      "C:/datazip/testzip.zip\n",
      "{'label': 'pack', 'points': [[926.4466239999999, 1682.1], [1247.866464, 2283.7510079999997]], 'group_id': None, 'shape_type': 'rectangle', 'flags': {}}\n",
      "{'label': 'pack', 'points': [[920.1440959999999, 1543.5], [1462.147872, 1968.751008]], 'group_id': None, 'shape_type': 'rectangle', 'flags': {}}\n",
      "{'label': 'pack', 'points': [[891.78272, 1890.0020160000001], [1317.192, 2447.5510080000004]], 'group_id': None, 'shape_type': 'rectangle', 'flags': {}}\n",
      "Ratio for image 3403540 : [2.116038243348983]\n",
      "Ratio for image 3403580 : [2.116038243348983, 2.5145447336798568]\n",
      "Ratio for image 3403580 : [2.116038243348983, 2.5145447336798568, 2.5887748365191148]\n",
      "C:/datazip/testzip/testzip.csv\n"
     ]
    },
    {
     "name": "stderr",
     "output_type": "stream",
     "text": [
      "127.0.0.1 - - [08/Jun/2023 09:12:15] \"POST /test HTTP/1.1\" 200 -\n"
     ]
    },
    {
     "name": "stdout",
     "output_type": "stream",
     "text": [
      "C:/datazip/testzip.zip\n",
      "{'label': 'pack', 'points': [[926.4466239999999, 1682.1], [1247.866464, 2283.7510079999997]], 'group_id': None, 'shape_type': 'rectangle', 'flags': {}}\n",
      "{'label': 'pack', 'points': [[920.1440959999999, 1543.5], [1462.147872, 1968.751008]], 'group_id': None, 'shape_type': 'rectangle', 'flags': {}}\n",
      "{'label': 'pack', 'points': [[891.78272, 1890.0020160000001], [1317.192, 2447.5510080000004]], 'group_id': None, 'shape_type': 'rectangle', 'flags': {}}\n",
      "Ratio for image 3403540 : [2.116038243348983]\n",
      "Ratio for image 3403580 : [2.116038243348983, 2.5145447336798568]\n",
      "Ratio for image 3403580 : [2.116038243348983, 2.5145447336798568, 2.5887748365191148]\n",
      "C:/datazip/testzip/testzip.csv\n"
     ]
    },
    {
     "name": "stderr",
     "output_type": "stream",
     "text": [
      "127.0.0.1 - - [08/Jun/2023 09:14:02] \"POST /test HTTP/1.1\" 200 -\n"
     ]
    },
    {
     "name": "stdout",
     "output_type": "stream",
     "text": [
      "C:/datazip/testzip.zip\n",
      "{'label': 'pack', 'points': [[926.4466239999999, 1682.1], [1247.866464, 2283.7510079999997]], 'group_id': None, 'shape_type': 'rectangle', 'flags': {}}\n",
      "{'label': 'pack', 'points': [[920.1440959999999, 1543.5], [1462.147872, 1968.751008]], 'group_id': None, 'shape_type': 'rectangle', 'flags': {}}\n",
      "{'label': 'pack', 'points': [[891.78272, 1890.0020160000001], [1317.192, 2447.5510080000004]], 'group_id': None, 'shape_type': 'rectangle', 'flags': {}}\n",
      "Ratio for image 3403540 : [2.116038243348983]\n",
      "Ratio for image 3403580 : [2.116038243348983, 2.5145447336798568]\n",
      "Ratio for image 3403580 : [2.116038243348983, 2.5145447336798568, 2.5887748365191148]\n",
      "C:/datazip/testzip/testzip.csv\n"
     ]
    },
    {
     "name": "stderr",
     "output_type": "stream",
     "text": [
      "127.0.0.1 - - [08/Jun/2023 09:15:30] \"POST /test HTTP/1.1\" 200 -\n"
     ]
    },
    {
     "name": "stdout",
     "output_type": "stream",
     "text": [
      "C:/datazip/testzip.zip\n",
      "{'label': 'pack', 'points': [[926.4466239999999, 1682.1], [1247.866464, 2283.7510079999997]], 'group_id': None, 'shape_type': 'rectangle', 'flags': {}}\n",
      "{'label': 'pack', 'points': [[920.1440959999999, 1543.5], [1462.147872, 1968.751008]], 'group_id': None, 'shape_type': 'rectangle', 'flags': {}}\n",
      "{'label': 'pack', 'points': [[891.78272, 1890.0020160000001], [1317.192, 2447.5510080000004]], 'group_id': None, 'shape_type': 'rectangle', 'flags': {}}\n",
      "Ratio for image 3403540 : [2.116038243348983]\n",
      "Ratio for image 3403580 : [2.116038243348983, 2.5145447336798568]\n",
      "Ratio for image 3403580 : [2.116038243348983, 2.5145447336798568, 2.5887748365191148]\n",
      "C:/datazip/testzip/testzip.csv\n"
     ]
    },
    {
     "name": "stderr",
     "output_type": "stream",
     "text": [
      "127.0.0.1 - - [08/Jun/2023 09:17:03] \"POST /test HTTP/1.1\" 200 -\n"
     ]
    },
    {
     "name": "stdout",
     "output_type": "stream",
     "text": [
      "C:/datazip/testzip.zip\n",
      "{'label': 'pack', 'points': [[926.4466239999999, 1682.1], [1247.866464, 2283.7510079999997]], 'group_id': None, 'shape_type': 'rectangle', 'flags': {}}\n",
      "{'label': 'pack', 'points': [[920.1440959999999, 1543.5], [1462.147872, 1968.751008]], 'group_id': None, 'shape_type': 'rectangle', 'flags': {}}\n",
      "{'label': 'pack', 'points': [[891.78272, 1890.0020160000001], [1317.192, 2447.5510080000004]], 'group_id': None, 'shape_type': 'rectangle', 'flags': {}}\n",
      "Ratio for image 3403540 : [2.116038243348983]\n",
      "Ratio for image 3403580 : [2.116038243348983, 2.5145447336798568]\n",
      "Ratio for image 3403580 : [2.116038243348983, 2.5145447336798568, 2.5887748365191148]\n",
      "C:/datazip/testzip/testzip.csv\n"
     ]
    },
    {
     "name": "stderr",
     "output_type": "stream",
     "text": [
      "127.0.0.1 - - [08/Jun/2023 09:17:55] \"POST /test HTTP/1.1\" 200 -\n"
     ]
    },
    {
     "name": "stdout",
     "output_type": "stream",
     "text": [
      "C:/datazip/testzip.zip\n",
      "{'label': 'pack', 'points': [[926.4466239999999, 1682.1], [1247.866464, 2283.7510079999997]], 'group_id': None, 'shape_type': 'rectangle', 'flags': {}}\n",
      "{'label': 'pack', 'points': [[920.1440959999999, 1543.5], [1462.147872, 1968.751008]], 'group_id': None, 'shape_type': 'rectangle', 'flags': {}}\n",
      "{'label': 'pack', 'points': [[891.78272, 1890.0020160000001], [1317.192, 2447.5510080000004]], 'group_id': None, 'shape_type': 'rectangle', 'flags': {}}\n",
      "Ratio for image 3403540 : [2.116038243348983]\n",
      "Ratio for image 3403580 : [2.116038243348983, 2.5145447336798568]\n",
      "Ratio for image 3403580 : [2.116038243348983, 2.5145447336798568, 2.5887748365191148]\n",
      "C:/datazip/testzip/testzip.csv\n"
     ]
    },
    {
     "name": "stderr",
     "output_type": "stream",
     "text": [
      "127.0.0.1 - - [08/Jun/2023 09:18:32] \"POST /test HTTP/1.1\" 200 -\n"
     ]
    },
    {
     "name": "stdout",
     "output_type": "stream",
     "text": [
      "C:/datazip/testzip.zip\n",
      "{'label': 'pack', 'points': [[926.4466239999999, 1682.1], [1247.866464, 2283.7510079999997]], 'group_id': None, 'shape_type': 'rectangle', 'flags': {}}\n",
      "{'label': 'pack', 'points': [[920.1440959999999, 1543.5], [1462.147872, 1968.751008]], 'group_id': None, 'shape_type': 'rectangle', 'flags': {}}\n",
      "{'label': 'pack', 'points': [[891.78272, 1890.0020160000001], [1317.192, 2447.5510080000004]], 'group_id': None, 'shape_type': 'rectangle', 'flags': {}}\n",
      "Ratio for image 3403540 : [2.116038243348983]\n",
      "Ratio for image 3403580 : [2.116038243348983, 2.5145447336798568]\n",
      "Ratio for image 3403580 : [2.116038243348983, 2.5145447336798568, 2.5887748365191148]\n",
      "C:/datazip/testzip/testzip.csv\n"
     ]
    },
    {
     "name": "stderr",
     "output_type": "stream",
     "text": [
      "127.0.0.1 - - [08/Jun/2023 09:19:29] \"POST /test HTTP/1.1\" 200 -\n"
     ]
    },
    {
     "name": "stdout",
     "output_type": "stream",
     "text": [
      "C:/datazip/testzip.zip\n",
      "{'label': 'pack', 'points': [[926.4466239999999, 1682.1], [1247.866464, 2283.7510079999997]], 'group_id': None, 'shape_type': 'rectangle', 'flags': {}}\n",
      "{'label': 'pack', 'points': [[920.1440959999999, 1543.5], [1462.147872, 1968.751008]], 'group_id': None, 'shape_type': 'rectangle', 'flags': {}}\n",
      "{'label': 'pack', 'points': [[891.78272, 1890.0020160000001], [1317.192, 2447.5510080000004]], 'group_id': None, 'shape_type': 'rectangle', 'flags': {}}\n",
      "Ratio for image 3403540 : [2.116038243348983]\n",
      "Ratio for image 3403580 : [2.116038243348983, 2.5145447336798568]\n",
      "Ratio for image 3403580 : [2.116038243348983, 2.5145447336798568, 2.5887748365191148]\n",
      "C:/datazip/testzip/testzip.csv\n"
     ]
    },
    {
     "name": "stderr",
     "output_type": "stream",
     "text": [
      "127.0.0.1 - - [08/Jun/2023 09:20:31] \"POST /test HTTP/1.1\" 200 -\n"
     ]
    },
    {
     "name": "stdout",
     "output_type": "stream",
     "text": [
      "C:/datazip/testzip.zip\n",
      "{'label': 'pack', 'points': [[926.4466239999999, 1682.1], [1247.866464, 2283.7510079999997]], 'group_id': None, 'shape_type': 'rectangle', 'flags': {}}\n",
      "{'label': 'pack', 'points': [[920.1440959999999, 1543.5], [1462.147872, 1968.751008]], 'group_id': None, 'shape_type': 'rectangle', 'flags': {}}\n",
      "{'label': 'pack', 'points': [[891.78272, 1890.0020160000001], [1317.192, 2447.5510080000004]], 'group_id': None, 'shape_type': 'rectangle', 'flags': {}}\n",
      "Ratio for image 3403540 : [2.116038243348983]\n",
      "Ratio for image 3403580 : [2.116038243348983, 2.5145447336798568]\n",
      "Ratio for image 3403580 : [2.116038243348983, 2.5145447336798568, 2.5887748365191148]\n",
      "C:/datazip/testzip/testzip.csv\n"
     ]
    },
    {
     "name": "stderr",
     "output_type": "stream",
     "text": [
      "127.0.0.1 - - [08/Jun/2023 09:26:40] \"POST /test HTTP/1.1\" 200 -\n"
     ]
    },
    {
     "name": "stdout",
     "output_type": "stream",
     "text": [
      "C:/datazip/testzip.zip\n",
      "{'label': 'pack', 'points': [[926.4466239999999, 1682.1], [1247.866464, 2283.7510079999997]], 'group_id': None, 'shape_type': 'rectangle', 'flags': {}}\n",
      "{'label': 'pack', 'points': [[920.1440959999999, 1543.5], [1462.147872, 1968.751008]], 'group_id': None, 'shape_type': 'rectangle', 'flags': {}}\n",
      "{'label': 'pack', 'points': [[891.78272, 1890.0020160000001], [1317.192, 2447.5510080000004]], 'group_id': None, 'shape_type': 'rectangle', 'flags': {}}\n",
      "Ratio for image 3403540 : [2.116038243348983]\n",
      "Ratio for image 3403580 : [2.116038243348983, 2.5145447336798568]\n",
      "Ratio for image 3403580 : [2.116038243348983, 2.5145447336798568, 2.5887748365191148]\n",
      "C:/datazip/testzip/testzip.csv\n"
     ]
    },
    {
     "name": "stderr",
     "output_type": "stream",
     "text": [
      "127.0.0.1 - - [08/Jun/2023 09:27:11] \"POST /test HTTP/1.1\" 200 -\n"
     ]
    },
    {
     "name": "stdout",
     "output_type": "stream",
     "text": [
      "C:/datazip/testzip.zip\n",
      "{'label': 'pack', 'points': [[926.4466239999999, 1682.1], [1247.866464, 2283.7510079999997]], 'group_id': None, 'shape_type': 'rectangle', 'flags': {}}\n",
      "{'label': 'pack', 'points': [[920.1440959999999, 1543.5], [1462.147872, 1968.751008]], 'group_id': None, 'shape_type': 'rectangle', 'flags': {}}\n",
      "{'label': 'pack', 'points': [[891.78272, 1890.0020160000001], [1317.192, 2447.5510080000004]], 'group_id': None, 'shape_type': 'rectangle', 'flags': {}}\n",
      "Ratio for image 3403540 : [2.116038243348983]\n",
      "Ratio for image 3403580 : [2.116038243348983, 2.5145447336798568]\n",
      "Ratio for image 3403580 : [2.116038243348983, 2.5145447336798568, 2.5887748365191148]\n",
      "C:/datazip/testzip/testzip.csv\n"
     ]
    },
    {
     "name": "stderr",
     "output_type": "stream",
     "text": [
      "127.0.0.1 - - [08/Jun/2023 09:37:05] \"POST /test HTTP/1.1\" 200 -\n"
     ]
    },
    {
     "name": "stdout",
     "output_type": "stream",
     "text": [
      "C:/datazip/testzip.zip\n",
      "{'label': 'pack', 'points': [[926.4466239999999, 1682.1], [1247.866464, 2283.7510079999997]], 'group_id': None, 'shape_type': 'rectangle', 'flags': {}}\n",
      "{'label': 'pack', 'points': [[920.1440959999999, 1543.5], [1462.147872, 1968.751008]], 'group_id': None, 'shape_type': 'rectangle', 'flags': {}}\n",
      "{'label': 'pack', 'points': [[891.78272, 1890.0020160000001], [1317.192, 2447.5510080000004]], 'group_id': None, 'shape_type': 'rectangle', 'flags': {}}\n",
      "Ratio for image 3403540 : [2.116038243348983]\n",
      "Ratio for image 3403580 : [2.116038243348983, 2.5145447336798568]\n",
      "Ratio for image 3403580 : [2.116038243348983, 2.5145447336798568, 2.5887748365191148]\n",
      "C:/datazip/testzip/testzip.csv\n"
     ]
    },
    {
     "name": "stderr",
     "output_type": "stream",
     "text": [
      "127.0.0.1 - - [08/Jun/2023 09:38:25] \"POST /test HTTP/1.1\" 200 -\n"
     ]
    },
    {
     "name": "stdout",
     "output_type": "stream",
     "text": [
      "C:/datazip/testzip.zip\n",
      "{'label': 'pack', 'points': [[926.4466239999999, 1682.1], [1247.866464, 2283.7510079999997]], 'group_id': None, 'shape_type': 'rectangle', 'flags': {}}\n",
      "{'label': 'pack', 'points': [[920.1440959999999, 1543.5], [1462.147872, 1968.751008]], 'group_id': None, 'shape_type': 'rectangle', 'flags': {}}\n",
      "{'label': 'pack', 'points': [[891.78272, 1890.0020160000001], [1317.192, 2447.5510080000004]], 'group_id': None, 'shape_type': 'rectangle', 'flags': {}}\n",
      "Ratio for image 3403540 : [2.116038243348983]\n",
      "Ratio for image 3403580 : [2.116038243348983, 2.5145447336798568]\n",
      "Ratio for image 3403580 : [2.116038243348983, 2.5145447336798568, 2.5887748365191148]\n",
      "C:/datazip/testzip/testzip.csv\n"
     ]
    },
    {
     "name": "stderr",
     "output_type": "stream",
     "text": [
      "127.0.0.1 - - [08/Jun/2023 09:38:58] \"POST /test HTTP/1.1\" 200 -\n"
     ]
    },
    {
     "name": "stdout",
     "output_type": "stream",
     "text": [
      "C:/datazip/testzip.zip\n",
      "{'label': 'pack', 'points': [[926.4466239999999, 1682.1], [1247.866464, 2283.7510079999997]], 'group_id': None, 'shape_type': 'rectangle', 'flags': {}}\n",
      "{'label': 'pack', 'points': [[920.1440959999999, 1543.5], [1462.147872, 1968.751008]], 'group_id': None, 'shape_type': 'rectangle', 'flags': {}}\n",
      "{'label': 'pack', 'points': [[891.78272, 1890.0020160000001], [1317.192, 2447.5510080000004]], 'group_id': None, 'shape_type': 'rectangle', 'flags': {}}\n",
      "Ratio for image 3403540 : [2.116038243348983]\n",
      "Ratio for image 3403580 : [2.116038243348983, 2.5145447336798568]\n",
      "Ratio for image 3403580 : [2.116038243348983, 2.5145447336798568, 2.5887748365191148]\n",
      "C:/datazip/testzip/testzip.csv\n"
     ]
    },
    {
     "name": "stderr",
     "output_type": "stream",
     "text": [
      "127.0.0.1 - - [08/Jun/2023 09:42:24] \"POST /test HTTP/1.1\" 200 -\n"
     ]
    },
    {
     "name": "stdout",
     "output_type": "stream",
     "text": [
      "C:/datazip/testzip.zip\n",
      "{'label': 'pack', 'points': [[926.4466239999999, 1682.1], [1247.866464, 2283.7510079999997]], 'group_id': None, 'shape_type': 'rectangle', 'flags': {}}\n",
      "{'label': 'pack', 'points': [[920.1440959999999, 1543.5], [1462.147872, 1968.751008]], 'group_id': None, 'shape_type': 'rectangle', 'flags': {}}\n",
      "{'label': 'pack', 'points': [[891.78272, 1890.0020160000001], [1317.192, 2447.5510080000004]], 'group_id': None, 'shape_type': 'rectangle', 'flags': {}}\n",
      "Ratio for image 3403540 : [2.116038243348983]\n",
      "Ratio for image 3403580 : [2.116038243348983, 2.5145447336798568]\n",
      "Ratio for image 3403580 : [2.116038243348983, 2.5145447336798568, 2.5887748365191148]\n",
      "C:/datazip/testzip/testzip.csv\n"
     ]
    },
    {
     "name": "stderr",
     "output_type": "stream",
     "text": [
      "127.0.0.1 - - [08/Jun/2023 09:42:49] \"POST /test HTTP/1.1\" 200 -\n"
     ]
    },
    {
     "name": "stdout",
     "output_type": "stream",
     "text": [
      "C:/datazip/testzip.zip\n",
      "{'label': 'pack', 'points': [[926.4466239999999, 1682.1], [1247.866464, 2283.7510079999997]], 'group_id': None, 'shape_type': 'rectangle', 'flags': {}}\n",
      "{'label': 'pack', 'points': [[920.1440959999999, 1543.5], [1462.147872, 1968.751008]], 'group_id': None, 'shape_type': 'rectangle', 'flags': {}}\n",
      "{'label': 'pack', 'points': [[891.78272, 1890.0020160000001], [1317.192, 2447.5510080000004]], 'group_id': None, 'shape_type': 'rectangle', 'flags': {}}\n",
      "Ratio for image 3403540 : [2.116038243348983]\n",
      "Ratio for image 3403580 : [2.116038243348983, 2.5145447336798568]\n",
      "Ratio for image 3403580 : [2.116038243348983, 2.5145447336798568, 2.5887748365191148]\n",
      "C:/datazip/testzip/testzip.csv\n"
     ]
    },
    {
     "name": "stderr",
     "output_type": "stream",
     "text": [
      "127.0.0.1 - - [08/Jun/2023 09:44:21] \"POST /test HTTP/1.1\" 200 -\n"
     ]
    },
    {
     "name": "stdout",
     "output_type": "stream",
     "text": [
      "C:/datazip/testzip.zip\n",
      "{'label': 'pack', 'points': [[926.4466239999999, 1682.1], [1247.866464, 2283.7510079999997]], 'group_id': None, 'shape_type': 'rectangle', 'flags': {}}\n",
      "{'label': 'pack', 'points': [[920.1440959999999, 1543.5], [1462.147872, 1968.751008]], 'group_id': None, 'shape_type': 'rectangle', 'flags': {}}\n",
      "{'label': 'pack', 'points': [[891.78272, 1890.0020160000001], [1317.192, 2447.5510080000004]], 'group_id': None, 'shape_type': 'rectangle', 'flags': {}}\n",
      "Ratio for image 3403540 : [2.116038243348983]\n",
      "Ratio for image 3403580 : [2.116038243348983, 2.5145447336798568]\n",
      "Ratio for image 3403580 : [2.116038243348983, 2.5145447336798568, 2.5887748365191148]\n",
      "C:/datazip/testzip/testzip.csv\n"
     ]
    },
    {
     "name": "stderr",
     "output_type": "stream",
     "text": [
      "127.0.0.1 - - [08/Jun/2023 09:44:33] \"POST /test HTTP/1.1\" 200 -\n"
     ]
    },
    {
     "name": "stdout",
     "output_type": "stream",
     "text": [
      "C:/datazip/testzip.zip\n",
      "{'label': 'pack', 'points': [[926.4466239999999, 1682.1], [1247.866464, 2283.7510079999997]], 'group_id': None, 'shape_type': 'rectangle', 'flags': {}}\n",
      "{'label': 'pack', 'points': [[920.1440959999999, 1543.5], [1462.147872, 1968.751008]], 'group_id': None, 'shape_type': 'rectangle', 'flags': {}}\n",
      "{'label': 'pack', 'points': [[891.78272, 1890.0020160000001], [1317.192, 2447.5510080000004]], 'group_id': None, 'shape_type': 'rectangle', 'flags': {}}\n",
      "Ratio for image 3403540 : [2.116038243348983]\n",
      "Ratio for image 3403580 : [2.116038243348983, 2.5145447336798568]\n",
      "Ratio for image 3403580 : [2.116038243348983, 2.5145447336798568, 2.5887748365191148]\n",
      "C:/datazip/testzip/testzip.csv\n"
     ]
    },
    {
     "name": "stderr",
     "output_type": "stream",
     "text": [
      "127.0.0.1 - - [08/Jun/2023 09:45:48] \"POST /test HTTP/1.1\" 200 -\n"
     ]
    },
    {
     "name": "stdout",
     "output_type": "stream",
     "text": [
      "C:/datazip/testzip.zip\n",
      "{'label': 'pack', 'points': [[926.4466239999999, 1682.1], [1247.866464, 2283.7510079999997]], 'group_id': None, 'shape_type': 'rectangle', 'flags': {}}\n",
      "{'label': 'pack', 'points': [[920.1440959999999, 1543.5], [1462.147872, 1968.751008]], 'group_id': None, 'shape_type': 'rectangle', 'flags': {}}\n",
      "{'label': 'pack', 'points': [[891.78272, 1890.0020160000001], [1317.192, 2447.5510080000004]], 'group_id': None, 'shape_type': 'rectangle', 'flags': {}}\n",
      "Ratio for image 3403540 : [2.116038243348983]\n",
      "Ratio for image 3403580 : [2.116038243348983, 2.5145447336798568]\n",
      "Ratio for image 3403580 : [2.116038243348983, 2.5145447336798568, 2.5887748365191148]\n",
      "C:/datazip/testzip/testzip.csv\n"
     ]
    },
    {
     "name": "stderr",
     "output_type": "stream",
     "text": [
      "127.0.0.1 - - [08/Jun/2023 09:46:36] \"POST /test HTTP/1.1\" 200 -\n"
     ]
    },
    {
     "name": "stdout",
     "output_type": "stream",
     "text": [
      "C:/datazip/testzip.zip\n",
      "{'label': 'pack', 'points': [[926.4466239999999, 1682.1], [1247.866464, 2283.7510079999997]], 'group_id': None, 'shape_type': 'rectangle', 'flags': {}}\n",
      "{'label': 'pack', 'points': [[920.1440959999999, 1543.5], [1462.147872, 1968.751008]], 'group_id': None, 'shape_type': 'rectangle', 'flags': {}}\n",
      "{'label': 'pack', 'points': [[891.78272, 1890.0020160000001], [1317.192, 2447.5510080000004]], 'group_id': None, 'shape_type': 'rectangle', 'flags': {}}\n",
      "Ratio for image 3403540 : [2.116038243348983]\n",
      "Ratio for image 3403580 : [2.116038243348983, 2.5145447336798568]\n",
      "Ratio for image 3403580 : [2.116038243348983, 2.5145447336798568, 2.5887748365191148]\n",
      "C:/datazip/testzip/testzip.csv\n"
     ]
    },
    {
     "name": "stderr",
     "output_type": "stream",
     "text": [
      "127.0.0.1 - - [08/Jun/2023 10:03:53] \"POST /test HTTP/1.1\" 200 -\n"
     ]
    },
    {
     "name": "stdout",
     "output_type": "stream",
     "text": [
      "C:/datazip/testzip.zip\n",
      "{'label': 'pack', 'points': [[926.4466239999999, 1682.1], [1247.866464, 2283.7510079999997]], 'group_id': None, 'shape_type': 'rectangle', 'flags': {}}\n",
      "{'label': 'pack', 'points': [[920.1440959999999, 1543.5], [1462.147872, 1968.751008]], 'group_id': None, 'shape_type': 'rectangle', 'flags': {}}\n",
      "{'label': 'pack', 'points': [[891.78272, 1890.0020160000001], [1317.192, 2447.5510080000004]], 'group_id': None, 'shape_type': 'rectangle', 'flags': {}}\n",
      "Ratio for image 3403540 : [2.116038243348983]\n",
      "Ratio for image 3403580 : [2.116038243348983, 2.5145447336798568]\n",
      "Ratio for image 3403580 : [2.116038243348983, 2.5145447336798568, 2.5887748365191148]\n",
      "C:/datazip/testzip/testzip.csv\n"
     ]
    },
    {
     "name": "stderr",
     "output_type": "stream",
     "text": [
      "127.0.0.1 - - [08/Jun/2023 10:04:22] \"POST /test HTTP/1.1\" 200 -\n"
     ]
    },
    {
     "name": "stdout",
     "output_type": "stream",
     "text": [
      "C:/datazip/testzip.zip\n",
      "{'label': 'pack', 'points': [[926.4466239999999, 1682.1], [1247.866464, 2283.7510079999997]], 'group_id': None, 'shape_type': 'rectangle', 'flags': {}}\n",
      "{'label': 'pack', 'points': [[920.1440959999999, 1543.5], [1462.147872, 1968.751008]], 'group_id': None, 'shape_type': 'rectangle', 'flags': {}}\n",
      "{'label': 'pack', 'points': [[891.78272, 1890.0020160000001], [1317.192, 2447.5510080000004]], 'group_id': None, 'shape_type': 'rectangle', 'flags': {}}\n",
      "Ratio for image 3403540 : [2.116038243348983]\n",
      "Ratio for image 3403580 : [2.116038243348983, 2.5145447336798568]\n",
      "Ratio for image 3403580 : [2.116038243348983, 2.5145447336798568, 2.5887748365191148]\n",
      "C:/datazip/testzip/testzip.csv\n"
     ]
    },
    {
     "name": "stderr",
     "output_type": "stream",
     "text": [
      "127.0.0.1 - - [08/Jun/2023 10:06:41] \"POST /test HTTP/1.1\" 200 -\n"
     ]
    },
    {
     "name": "stdout",
     "output_type": "stream",
     "text": [
      "C:/datazip/testzip.zip\n",
      "{'label': 'pack', 'points': [[926.4466239999999, 1682.1], [1247.866464, 2283.7510079999997]], 'group_id': None, 'shape_type': 'rectangle', 'flags': {}}\n",
      "{'label': 'pack', 'points': [[920.1440959999999, 1543.5], [1462.147872, 1968.751008]], 'group_id': None, 'shape_type': 'rectangle', 'flags': {}}\n",
      "{'label': 'pack', 'points': [[891.78272, 1890.0020160000001], [1317.192, 2447.5510080000004]], 'group_id': None, 'shape_type': 'rectangle', 'flags': {}}\n",
      "Ratio for image 3403540 : [2.116038243348983]\n",
      "Ratio for image 3403580 : [2.116038243348983, 2.5145447336798568]\n",
      "Ratio for image 3403580 : [2.116038243348983, 2.5145447336798568, 2.5887748365191148]\n",
      "C:/datazip/testzip/testzip.csv\n"
     ]
    },
    {
     "name": "stderr",
     "output_type": "stream",
     "text": [
      "127.0.0.1 - - [08/Jun/2023 10:07:06] \"POST /test HTTP/1.1\" 200 -\n"
     ]
    },
    {
     "name": "stdout",
     "output_type": "stream",
     "text": [
      "C:/datazip/testzip.zip\n",
      "{'label': 'pack', 'points': [[926.4466239999999, 1682.1], [1247.866464, 2283.7510079999997]], 'group_id': None, 'shape_type': 'rectangle', 'flags': {}}\n",
      "{'label': 'pack', 'points': [[920.1440959999999, 1543.5], [1462.147872, 1968.751008]], 'group_id': None, 'shape_type': 'rectangle', 'flags': {}}\n",
      "{'label': 'pack', 'points': [[891.78272, 1890.0020160000001], [1317.192, 2447.5510080000004]], 'group_id': None, 'shape_type': 'rectangle', 'flags': {}}\n",
      "Ratio for image 3403540 : [2.116038243348983]\n",
      "Ratio for image 3403580 : [2.116038243348983, 2.5145447336798568]\n",
      "Ratio for image 3403580 : [2.116038243348983, 2.5145447336798568, 2.5887748365191148]\n",
      "C:/datazip/testzip/testzip.csv\n"
     ]
    },
    {
     "name": "stderr",
     "output_type": "stream",
     "text": [
      "127.0.0.1 - - [08/Jun/2023 10:07:20] \"POST /test HTTP/1.1\" 200 -\n"
     ]
    },
    {
     "name": "stdout",
     "output_type": "stream",
     "text": [
      "C:/datazip/testzip.zip\n",
      "{'label': 'pack', 'points': [[926.4466239999999, 1682.1], [1247.866464, 2283.7510079999997]], 'group_id': None, 'shape_type': 'rectangle', 'flags': {}}\n",
      "{'label': 'pack', 'points': [[920.1440959999999, 1543.5], [1462.147872, 1968.751008]], 'group_id': None, 'shape_type': 'rectangle', 'flags': {}}\n",
      "{'label': 'pack', 'points': [[891.78272, 1890.0020160000001], [1317.192, 2447.5510080000004]], 'group_id': None, 'shape_type': 'rectangle', 'flags': {}}\n",
      "Ratio for image 3403540 : [2.116038243348983]\n",
      "Ratio for image 3403580 : [2.116038243348983, 2.5145447336798568]\n",
      "Ratio for image 3403580 : [2.116038243348983, 2.5145447336798568, 2.5887748365191148]\n",
      "C:/datazip/testzip/testzip.csv\n"
     ]
    },
    {
     "name": "stderr",
     "output_type": "stream",
     "text": [
      "127.0.0.1 - - [08/Jun/2023 10:10:43] \"POST /test HTTP/1.1\" 200 -\n"
     ]
    },
    {
     "name": "stdout",
     "output_type": "stream",
     "text": [
      "C:/datazip/testzip.zip\n",
      "{'label': 'pack', 'points': [[926.4466239999999, 1682.1], [1247.866464, 2283.7510079999997]], 'group_id': None, 'shape_type': 'rectangle', 'flags': {}}\n",
      "{'label': 'pack', 'points': [[920.1440959999999, 1543.5], [1462.147872, 1968.751008]], 'group_id': None, 'shape_type': 'rectangle', 'flags': {}}\n",
      "{'label': 'pack', 'points': [[891.78272, 1890.0020160000001], [1317.192, 2447.5510080000004]], 'group_id': None, 'shape_type': 'rectangle', 'flags': {}}\n",
      "Ratio for image 3403540 : [2.116038243348983]\n",
      "Ratio for image 3403580 : [2.116038243348983, 2.5145447336798568]\n",
      "Ratio for image 3403580 : [2.116038243348983, 2.5145447336798568, 2.5887748365191148]\n",
      "C:/datazip/testzip/testzip.csv\n"
     ]
    },
    {
     "name": "stderr",
     "output_type": "stream",
     "text": [
      "127.0.0.1 - - [08/Jun/2023 10:11:10] \"POST /test HTTP/1.1\" 200 -\n"
     ]
    },
    {
     "name": "stdout",
     "output_type": "stream",
     "text": [
      "C:/datazip/testzip.zip\n",
      "{'label': 'pack', 'points': [[926.4466239999999, 1682.1], [1247.866464, 2283.7510079999997]], 'group_id': None, 'shape_type': 'rectangle', 'flags': {}}\n",
      "{'label': 'pack', 'points': [[920.1440959999999, 1543.5], [1462.147872, 1968.751008]], 'group_id': None, 'shape_type': 'rectangle', 'flags': {}}\n",
      "{'label': 'pack', 'points': [[891.78272, 1890.0020160000001], [1317.192, 2447.5510080000004]], 'group_id': None, 'shape_type': 'rectangle', 'flags': {}}\n",
      "Ratio for image 3403540 : [2.116038243348983]\n",
      "Ratio for image 3403580 : [2.116038243348983, 2.5145447336798568]\n",
      "Ratio for image 3403580 : [2.116038243348983, 2.5145447336798568, 2.5887748365191148]\n",
      "C:/datazip/testzip/testzip.csv\n"
     ]
    },
    {
     "name": "stderr",
     "output_type": "stream",
     "text": [
      "127.0.0.1 - - [08/Jun/2023 10:13:45] \"POST /test HTTP/1.1\" 200 -\n"
     ]
    },
    {
     "name": "stdout",
     "output_type": "stream",
     "text": [
      "C:/datazip/testzip.zip\n",
      "{'label': 'pack', 'points': [[926.4466239999999, 1682.1], [1247.866464, 2283.7510079999997]], 'group_id': None, 'shape_type': 'rectangle', 'flags': {}}\n",
      "{'label': 'pack', 'points': [[920.1440959999999, 1543.5], [1462.147872, 1968.751008]], 'group_id': None, 'shape_type': 'rectangle', 'flags': {}}\n",
      "{'label': 'pack', 'points': [[891.78272, 1890.0020160000001], [1317.192, 2447.5510080000004]], 'group_id': None, 'shape_type': 'rectangle', 'flags': {}}\n",
      "Ratio for image 3403540 : [2.116038243348983]\n",
      "Ratio for image 3403580 : [2.116038243348983, 2.5145447336798568]\n",
      "Ratio for image 3403580 : [2.116038243348983, 2.5145447336798568, 2.5887748365191148]\n",
      "C:/datazip/testzip/testzip.csv\n"
     ]
    },
    {
     "name": "stderr",
     "output_type": "stream",
     "text": [
      "127.0.0.1 - - [08/Jun/2023 10:18:37] \"POST /test HTTP/1.1\" 200 -\n"
     ]
    },
    {
     "name": "stdout",
     "output_type": "stream",
     "text": [
      "C:/datazip/testzip.zip\n",
      "{'label': 'pack', 'points': [[926.4466239999999, 1682.1], [1247.866464, 2283.7510079999997]], 'group_id': None, 'shape_type': 'rectangle', 'flags': {}}\n",
      "{'label': 'pack', 'points': [[920.1440959999999, 1543.5], [1462.147872, 1968.751008]], 'group_id': None, 'shape_type': 'rectangle', 'flags': {}}\n",
      "{'label': 'pack', 'points': [[891.78272, 1890.0020160000001], [1317.192, 2447.5510080000004]], 'group_id': None, 'shape_type': 'rectangle', 'flags': {}}\n",
      "Ratio for image 3403540 : [2.116038243348983]\n",
      "Ratio for image 3403580 : [2.116038243348983, 2.5145447336798568]\n",
      "Ratio for image 3403580 : [2.116038243348983, 2.5145447336798568, 2.5887748365191148]\n",
      "C:/datazip/testzip/testzip.csv\n"
     ]
    }
   ],
   "source": [
    "# 플라스크 실행 코드\n",
    "\n",
    "app = Flask(__name__)\n",
    "CORS(app)\n",
    "\n",
    "# 클릭했을때 반환해주는거잖아\n",
    "@app.route('/test', methods=['POST'])\n",
    "def handle_ajax_request():\n",
    "    od_path = request.form.get('od_path')  # Ajax 요청에서 'od_path' 값을 가져옵니다.\n",
    "    print(od_path)\n",
    "\n",
    "    jsonzip(od_path)\n",
    "    path = dataframe(od_path)\n",
    "    # 응답을 반환합니다.\n",
    "\n",
    "    data =pd.read_csv(path,index_col=False)\n",
    "    data['imagePath'] = data['imagePath'].astype(\"object\")\n",
    "    print(path)\n",
    "    # response = data.to_json(date_format=\"cp949\", orient='index', indent=4)\n",
    "    # param = response.get_json()\n",
    "    # return jsonify(data.to_dict())\n",
    "    return Response(data.to_json(orient=\"records\"), mimetype='application/json')\n",
    "\n",
    "if __name__ == '__main__':\n",
    "    app.run()"
   ]
  }
 ],
 "metadata": {
  "kernelspec": {
   "display_name": "Python 3",
   "language": "python",
   "name": "python3"
  },
  "language_info": {
   "codemirror_mode": {
    "name": "ipython",
    "version": 3
   },
   "file_extension": ".py",
   "mimetype": "text/x-python",
   "name": "python",
   "nbconvert_exporter": "python",
   "pygments_lexer": "ipython3",
   "version": "3.11.1"
  },
  "orig_nbformat": 4
 },
 "nbformat": 4,
 "nbformat_minor": 2
}
